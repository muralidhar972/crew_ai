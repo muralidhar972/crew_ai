{
 "cells": [
  {
   "cell_type": "markdown",
   "metadata": {},
   "source": [
    "# L6: Multi-agent Collaboration for Financial Analysis\n",
    "\n",
    "In this lesson, you will learn ways for making agents collaborate with each other."
   ]
  },
  {
   "cell_type": "markdown",
   "metadata": {},
   "source": [
    "The libraries are already installed in the classroom. If you're running this notebook on your own machine, you can install the following:\n",
    "```Python\n",
    "!pip install crewai==0.28.8 crewai_tools==0.1.6 langchain_community==0.0.29\n",
    "```"
   ]
  },
  {
   "cell_type": "code",
   "execution_count": 1,
   "metadata": {
    "height": 64
   },
   "outputs": [],
   "source": [
    "# Warning control\n",
    "import warnings\n",
    "warnings.filterwarnings('ignore')"
   ]
  },
  {
   "cell_type": "markdown",
   "metadata": {},
   "source": [
    "- Import libraries, APIs and LLM"
   ]
  },
  {
   "cell_type": "code",
   "execution_count": 2,
   "metadata": {
    "height": 30
   },
   "outputs": [],
   "source": [
    "from crewai import Agent, Task, Crew"
   ]
  },
  {
   "cell_type": "markdown",
   "metadata": {},
   "source": [
    "**Note**: \n",
    "- The video uses `gpt-4-turbo`, but due to certain constraints, and in order to offer this course for free to everyone, the code you'll run here will use `gpt-3.5-turbo`.\n",
    "- You can use `gpt-4-turbo` when you run the notebook _locally_ (using `gpt-4-turbo` will not work on the platform)\n",
    "- Thank you for your understanding!"
   ]
  },
  {
   "cell_type": "code",
   "execution_count": 3,
   "metadata": {
    "height": 115
   },
   "outputs": [],
   "source": [
    "import os\n",
    "from utils import get_openai_api_key, get_serper_api_key\n",
    "\n",
    "openai_api_key = get_openai_api_key()\n",
    "os.environ[\"OPENAI_MODEL_NAME\"] = 'gpt-3.5-turbo'\n",
    "os.environ[\"SERPER_API_KEY\"] = get_serper_api_key()"
   ]
  },
  {
   "cell_type": "markdown",
   "metadata": {},
   "source": [
    "## crewAI Tools"
   ]
  },
  {
   "cell_type": "code",
   "execution_count": 4,
   "metadata": {
    "height": 81
   },
   "outputs": [],
   "source": [
    "from crewai_tools import ScrapeWebsiteTool, SerperDevTool\n",
    "\n",
    "search_tool = SerperDevTool()\n",
    "scrape_tool = ScrapeWebsiteTool()"
   ]
  },
  {
   "cell_type": "markdown",
   "metadata": {},
   "source": [
    "## Creating Agents"
   ]
  },
  {
   "cell_type": "code",
   "execution_count": 5,
   "metadata": {
    "height": 234
   },
   "outputs": [],
   "source": [
    "data_analyst_agent = Agent(\n",
    "    role=\"Data Analyst\",\n",
    "    goal=\"Monitor and analyze market data in real-time \"\n",
    "         \"to identify trends and predict market movements.\",\n",
    "    backstory=\"Specializing in financial markets, this agent \"\n",
    "              \"uses statistical modeling and machine learning \"\n",
    "              \"to provide crucial insights. With a knack for data, \"\n",
    "              \"the Data Analyst Agent is the cornerstone for \"\n",
    "              \"informing trading decisions.\",\n",
    "    verbose=True,\n",
    "    allow_delegation=True,\n",
    "    tools = [scrape_tool, search_tool]\n",
    ")"
   ]
  },
  {
   "cell_type": "code",
   "execution_count": 6,
   "metadata": {
    "height": 234
   },
   "outputs": [],
   "source": [
    "trading_strategy_agent = Agent(\n",
    "    role=\"Trading Strategy Developer\",\n",
    "    goal=\"Develop and test various trading strategies based \"\n",
    "         \"on insights from the Data Analyst Agent.\",\n",
    "    backstory=\"Equipped with a deep understanding of financial \"\n",
    "              \"markets and quantitative analysis, this agent \"\n",
    "              \"devises and refines trading strategies. It evaluates \"\n",
    "              \"the performance of different approaches to determine \"\n",
    "              \"the most profitable and risk-averse options.\",\n",
    "    verbose=True,\n",
    "    allow_delegation=True,\n",
    "    tools = [scrape_tool, search_tool]\n",
    ")"
   ]
  },
  {
   "cell_type": "code",
   "execution_count": 7,
   "metadata": {
    "height": 251
   },
   "outputs": [],
   "source": [
    "execution_agent = Agent(\n",
    "    role=\"Trade Advisor\",\n",
    "    goal=\"Suggest optimal trade execution strategies \"\n",
    "         \"based on approved trading strategies.\",\n",
    "    backstory=\"This agent specializes in analyzing the timing, price, \"\n",
    "              \"and logistical details of potential trades. By evaluating \"\n",
    "              \"these factors, it provides well-founded suggestions for \"\n",
    "              \"when and how trades should be executed to maximize \"\n",
    "              \"efficiency and adherence to strategy.\",\n",
    "    verbose=True,\n",
    "    allow_delegation=True,\n",
    "    tools = [scrape_tool, search_tool]\n",
    ")"
   ]
  },
  {
   "cell_type": "code",
   "execution_count": 8,
   "metadata": {
    "height": 251
   },
   "outputs": [],
   "source": [
    "risk_management_agent = Agent(\n",
    "    role=\"Risk Advisor\",\n",
    "    goal=\"Evaluate and provide insights on the risks \"\n",
    "         \"associated with potential trading activities.\",\n",
    "    backstory=\"Armed with a deep understanding of risk assessment models \"\n",
    "              \"and market dynamics, this agent scrutinizes the potential \"\n",
    "              \"risks of proposed trades. It offers a detailed analysis of \"\n",
    "              \"risk exposure and suggests safeguards to ensure that \"\n",
    "              \"trading activities align with the firm’s risk tolerance.\",\n",
    "    verbose=True,\n",
    "    allow_delegation=True,\n",
    "    tools = [scrape_tool, search_tool]\n",
    ")"
   ]
  },
  {
   "cell_type": "markdown",
   "metadata": {},
   "source": [
    "## Creating Tasks"
   ]
  },
  {
   "cell_type": "code",
   "execution_count": 9,
   "metadata": {
    "height": 251
   },
   "outputs": [],
   "source": [
    "# Task for Data Analyst Agent: Analyze Market Data\n",
    "data_analysis_task = Task(\n",
    "    description=(\n",
    "        \"Continuously monitor and analyze market data for \"\n",
    "        \"the selected stock ({stock_selection}). \"\n",
    "        \"Use statistical modeling and machine learning to \"\n",
    "        \"identify trends and predict market movements.\"\n",
    "    ),\n",
    "    expected_output=(\n",
    "        \"Insights and alerts about significant market \"\n",
    "        \"opportunities or threats for {stock_selection}.\"\n",
    "    ),\n",
    "    agent=data_analyst_agent,\n",
    ")"
   ]
  },
  {
   "cell_type": "code",
   "execution_count": 10,
   "metadata": {
    "height": 285
   },
   "outputs": [],
   "source": [
    "# Task for Trading Strategy Agent: Develop Trading Strategies\n",
    "strategy_development_task = Task(\n",
    "    description=(\n",
    "        \"Develop and refine trading strategies based on \"\n",
    "        \"the insights from the Data Analyst and \"\n",
    "        \"user-defined risk tolerance ({risk_tolerance}). \"\n",
    "        \"Consider trading preferences ({trading_strategy_preference}).\"\n",
    "    ),\n",
    "    expected_output=(\n",
    "        \"A set of potential trading strategies for {stock_selection} \"\n",
    "        \"that align with the user's risk tolerance.\"\n",
    "    ),\n",
    "    agent=trading_strategy_agent,\n",
    ")\n"
   ]
  },
  {
   "cell_type": "code",
   "execution_count": 11,
   "metadata": {
    "height": 251
   },
   "outputs": [],
   "source": [
    "# Task for Trade Advisor Agent: Plan Trade Execution\n",
    "execution_planning_task = Task(\n",
    "    description=(\n",
    "        \"Analyze approved trading strategies to determine the \"\n",
    "        \"best execution methods for {stock_selection}, \"\n",
    "        \"considering current market conditions and optimal pricing.\"\n",
    "    ),\n",
    "    expected_output=(\n",
    "        \"Detailed execution plans suggesting how and when to \"\n",
    "        \"execute trades for {stock_selection}.\"\n",
    "    ),\n",
    "    agent=execution_agent,\n",
    ")\n"
   ]
  },
  {
   "cell_type": "code",
   "execution_count": 12,
   "metadata": {
    "height": 251
   },
   "outputs": [],
   "source": [
    "# Task for Risk Advisor Agent: Assess Trading Risks\n",
    "risk_assessment_task = Task(\n",
    "    description=(\n",
    "        \"Evaluate the risks associated with the proposed trading \"\n",
    "        \"strategies and execution plans for {stock_selection}. \"\n",
    "        \"Provide a detailed analysis of potential risks \"\n",
    "        \"and suggest mitigation strategies.\"\n",
    "    ),\n",
    "    expected_output=(\n",
    "        \"A comprehensive risk analysis report detailing potential \"\n",
    "        \"risks and mitigation recommendations for {stock_selection}.\"\n",
    "    ),\n",
    "    agent=risk_management_agent,\n",
    ")"
   ]
  },
  {
   "cell_type": "markdown",
   "metadata": {},
   "source": [
    "## Creating the Crew\n",
    "- The `Process` class helps to delegate the workflow to the Agents (kind of like a Manager at work)\n",
    "- In the example below, it will run this hierarchically.\n",
    "- `manager_llm` lets you choose the \"manager\" LLM you want to use."
   ]
  },
  {
   "cell_type": "code",
   "execution_count": 13,
   "metadata": {
    "height": 353
   },
   "outputs": [],
   "source": [
    "from crewai import Crew, Process\n",
    "from langchain_openai import ChatOpenAI\n",
    "\n",
    "# Define the crew with agents and tasks\n",
    "financial_trading_crew = Crew(\n",
    "    agents=[data_analyst_agent, \n",
    "            trading_strategy_agent, \n",
    "            execution_agent, \n",
    "            risk_management_agent],\n",
    "    \n",
    "    tasks=[data_analysis_task, \n",
    "           strategy_development_task, \n",
    "           execution_planning_task, \n",
    "           risk_assessment_task],\n",
    "    \n",
    "    manager_llm=ChatOpenAI(model=\"gpt-3.5-turbo\", \n",
    "                           temperature=0.7),\n",
    "    process=Process.hierarchical,\n",
    "    verbose=True\n",
    ")"
   ]
  },
  {
   "cell_type": "markdown",
   "metadata": {},
   "source": [
    "## Running the Crew\n",
    "\n",
    "- Set the inputs for the execution of the crew."
   ]
  },
  {
   "cell_type": "code",
   "execution_count": 14,
   "metadata": {
    "height": 149
   },
   "outputs": [],
   "source": [
    "# Example data for kicking off the process\n",
    "financial_trading_inputs = {\n",
    "    'stock_selection': 'AAPL',\n",
    "    'initial_capital': '100000',\n",
    "    'risk_tolerance': 'Medium',\n",
    "    'trading_strategy_preference': 'Day Trading',\n",
    "    'news_impact_consideration': True\n",
    "}"
   ]
  },
  {
   "cell_type": "markdown",
   "metadata": {},
   "source": [
    "**Note**: LLMs can provide different outputs for they same input, so what you get might be different than what you see in the video."
   ]
  },
  {
   "cell_type": "code",
   "execution_count": null,
   "metadata": {
    "height": 64
   },
   "outputs": [
    {
     "name": "stdout",
     "output_type": "stream",
     "text": [
      "\u001b[1m\u001b[92m [DEBUG]: Working Agent: Crew Manager\u001b[00m\n",
      "\u001b[1m\u001b[92m [INFO]: Starting Task: Continuously monitor and analyze market data for the selected stock (AAPL). Use statistical modeling and machine learning to identify trends and predict market movements.\u001b[00m\n",
      "\n",
      "\n",
      "\u001b[1m> Entering new CrewAgentExecutor chain...\u001b[0m\n",
      "\u001b[32;1m\u001b[1;3mI need to delegate tasks to ensure we are continuously monitoring and analyzing market data for AAPL effectively.\n",
      "\n",
      "Action: Delegate work to co-worker\n",
      "Action Input: {\"coworker\": \"Data Analyst\", \"task\": \"Continuously monitor and analyze market data for AAPL using statistical modeling and machine learning\", \"context\": \"AAPL stock, statistical modeling, machine learning\"}\u001b[0m\n",
      "\n",
      "\u001b[1m> Entering new CrewAgentExecutor chain...\u001b[0m\n",
      "\u001b[32;1m\u001b[1;3mI need to gather real-time market data for AAPL and analyze it using statistical modeling and machine learning to provide accurate insights.\n",
      "\n",
      "Action: Read website content\n",
      "Action Input: {\"website_url\": \"https://finance.yahoo.com/quote/AAPL\"}\u001b[0m\u001b[95m \n",
      "\n",
      "Apple Inc. (AAPL) Stock Price, News, Quote & History - Yahoo Finance News Today's news US Politics World Tech Reviews and deals Audio Computing Gaming Health Home Phones Science TVs Climate change Health Science 2024 election Originals The 360 Life Health COVID-19 Fall allergies Health news Mental health Relax Sexual health Studies The Unwind Parenting Family health So mini ways Style and beauty It Figures Unapologetically Horoscopes Shopping Buying guides Food Travel Autos Gift ideas Buying guides Entertainment Celebrity TV Movies Music How to Watch Interviews Videos Shopping Finance My Portfolio News Latest News Stock Market Originals Premium News Economics Housing Earnings Tech Crypto Biden Economy Markets Stocks: Most Actives Stocks: Gainers Stocks: Losers Trending Tickers Futures World Indices US Treasury Bonds Rates Currencies Crypto Top ETFs Top Mutual Funds Options: Highest Open Interest Options: Highest Implied Volatility Sectors Basic Materials Communication Services Consumer Cyclical Consumer Defensive Energy Financial Services Healthcare Industrials Real Estate Technology Utilities Research Screeners Watchlists Calendar Stock Comparison Advanced Chart Currency Converter Investment Ideas Research Reports Personal Finance Credit Cards Balance Transfer Cards Cash-back Cards Rewards Cards Travel Cards Credit Card Offers Banking CD Rates Best HYSA Best Free Checking Student Loans Personal Loans Insurance Car insurance Mortgages Mortgage Refinancing Mortgage Calculator Taxes Videos Morning Brief Catalysts Wealth Market Domination Market Domination Overtime Asking for a Trend Opening Bid Stocks in Translation NEXT Lead This Way Good Buy or Goodbye? ETF Report Financial Freestyle Capitol Gains Sports Fantasy News Fantasy football Best Ball Pro Pick 'Em College Pick 'Em Fantasy baseball Fantasy hockey Fantasy basketball Download the app Daily fantasy NFL News Scores and schedules Standings Stats Teams Players Drafts Injuries Odds Super Bowl GameChannel Videos MLB News Scores and schedules Standings Stats Teams Players Odds Videos World Baseball Classic NBA News Draft Scores and schedules Standings Stats Teams Players Injuries Videos Odds Playoffs NHL News Scores and schedules Standings Stats Teams Players Odds Playoffs Soccer News Scores and schedules Premier League MLS NWSL Liga MX CONCACAF League Champions League La Liga Serie A Bundesliga Ligue 1 World Cup College football News Scores and schedules Standings Rankings Stats Teams Show all MMA WNBA Sportsbook NCAAF Tennis Golf NASCAR NCAAB NCAAW Boxing USFL Cycling Motorsports Olympics Horse racing GameChannel Rivals Newsletters Podcasts Videos RSS Jobs Help World Cup More news New on Yahoo Games Tech Terms Privacy Your Privacy Choices CA Privacy Notice Feedback © 2024 All rights reserved. About our ads Advertising Careers Yahoo Finance Yahoo Finance Search query Select edition USEnglish US y LATAMEspañol AustraliaEnglish CanadaEnglish CanadaFrançais DeutschlandDeutsch FranceFrançais 香港繁中 MalaysiaEnglish New ZealandEnglish SingaporeEnglish 台灣繁中 UKEnglish News Finance Sports More News Today's news US Politics World Weather Climate change Health Science 2024 election Originals Life Health Parenting Style and beauty Horoscopes Shopping Food Travel Autos Gift ideas Buying guides Entertainment Celebrity TV Movies Music How to watch Interviews Videos Shopping Finance My portfolio Watchlists Markets News Videos Screeners Personal finance Crypto Industries Sports Fantasy NFL NBA MLB NHL College football College basketball Soccer MMA Yahoo Sports AM New on Yahoo Games Tech Selected edition USEnglish Mail Sign in My Portfolio News Latest News Stock Market Originals Premium News Economics Housing Earnings Tech Crypto Biden Economy Markets Stocks: Most Actives Stocks: Gainers Stocks: Losers Trending Tickers Futures World Indices US Treasury Bonds Rates Currencies Crypto Top ETFs Top Mutual Funds Options: Highest Open Interest Options: Highest Implied Volatility Sectors Basic Materials Communication Services Consumer Cyclical Consumer Defensive Energy Financial Services Healthcare Industrials Real Estate Technology Utilities Research Screeners Watchlists Calendar Stock Comparison Advanced Chart Currency Converter Investment Ideas Research Reports Personal Finance Credit Cards Balance Transfer Cards Cash-back Cards Rewards Cards Travel Cards Credit Card Offers Banking CD Rates Best HYSA Best Free Checking Student Loans Personal Loans Insurance Car insurance Mortgages Mortgage Refinancing Mortgage Calculator Taxes Videos Morning Brief Catalysts Wealth Market Domination Market Domination Overtime Asking for a Trend Opening Bid Stocks in Translation NEXT Lead This Way Good Buy or Goodbye? ETF Report Financial Freestyle Capitol Gains … \n",
      "Back to classic\n",
      " Summary News Research Chart Community Statistics Historical Data Profile Financials Analysis Options Holders Sustainability NasdaqGS - Nasdaq Real Time Price • USD Apple Inc. (AAPL) Follow Compare 226.05 +1.33 (+0.59%) At close: August 16 at 4:00 PM EDT 226.00 -0.05 (-0.02%) After hours: August 16 at 7:59 PM EDT 1D 5D 4.54% 3M 19.15% 6M 22.95% YTD 17.41% 1Y 27.39% 5Y 348.20% All 176,022.74% Key Events Mountain Line Candle Baseline Mountain Bar Advanced Chart Loading Chart for AAPL 9/21 12:03 PM DELL Date Close Open High Low Volume Previous Close 224.72 Open 223.92 Bid 225.98 x 200 Ask 226.10 x 200 Day's Range 223.65 - 226.83 52 Week Range 164.08 - 237.23 Volume 42,366,146 Avg. Volume 65,180,064 Market Cap (intraday) 3.437T Beta (5Y Monthly) 1.24 PE Ratio (TTM) 34.35 EPS (TTM) 6.58 Earnings Date Oct 31, 2024 - Nov 4, 2024 Forward Dividend & Yield 1.00 (0.45%) Ex-Dividend Date Aug 12, 2024 1y Target Est 215.29 Apple Inc. Overview Consumer Electronics / Technology Apple Inc. designs, manufactures, and markets smartphones, personal computers, tablets, wearables, and accessories worldwide. The company offers iPhone, a line of smartphones; Mac, a line of personal computers; iPad, a line of multi-purpose tablets; and wearables, home, and accessories comprising AirPods, Apple TV, Apple Watch, Beats products, and HomePod. It also provides AppleCare support and cloud services; and operates various platforms, including the App Store that allow customers to discover and download applications and digital content, such as books, music, video, games, and podcasts. In addition, the company offers various services, such as Apple Arcade, a game subscription service; Apple Fitness+, a personalized fitness service; Apple Music, which offers users a curated listening experience with on-demand radio stations; Apple News+, a subscription news and magazine service; Apple TV+, which offers exclusive original content; Apple Card, a co-branded credit card; and Apple Pay, a cashless payment service, as well as licenses its intellectual property. The company serves consumers, and small and mid-sized businesses; and the education, enterprise, and government markets. It distributes third-party applications for its products through the App Store. The company also sells its products through its retail and online stores, and direct sales force; and third-party cellular network carriers, wholesalers, retailers, and resellers. Apple Inc. was founded in 1976 and is headquartered in Cupertino, California. www.apple.com 161,000 Full Time Employees September 30 Fiscal Year Ends Technology Sector Consumer Electronics Industry More about Apple Inc. Recent News: AAPL View More All News Press Releases SEC Filings All SEC Filings Corporate Changes & Voting Matters Periodic Financial Reports Proxy Statements Tender Offer/Acquisition Reports Offering Registrations View More Performance Overview: AAPL Trailing total returns as of 8/16/2024, which may include dividends or other distributions. Benchmark is S&P 500 . YTD Return AAPL 17.86% S&P 500 16.45% 1-Year Return AAPL 28.04% S&P 500 25.16% 3-Year Return AAPL 54.15% S&P 500 24.31% 5-Year Return AAPL 363.19% S&P 500 95.05% Compare To: AAPL Compare Select to analyze similar companies using key performance metrics; select up to 4 stocks. AAPL Apple Inc. 226.05 +0.59% Mkt Cap 3.437T Industry Consumer Electronics SONY Sony Group Corporation 90.24 +2.01% Mkt Cap 109.556B Industry Consumer Electronics KOSS Koss Corporation 7.55 +3.00% Mkt Cap 69.874M Industry Consumer Electronics SONO Sonos, Inc. 11.61 -1.02% Mkt Cap 1.405B Industry Consumer Electronics GPRO GoPro, Inc. 1.2400 -0.80% Mkt Cap 189.385M Industry Consumer Electronics 5371.TWO Coretronic Corporation 83.40 +7.47% Mkt Cap TWD 32.608B Industry Consumer Electronics 005930.KS Samsung Electronics Co., Ltd. 80,200.00 +3.89% Mkt Cap KRW 532.017T Industry Consumer Electronics 2498.TW HTC Corporation 42.10 +2.06% Mkt Cap TWD 35.055B Industry Consumer Electronics VUZI Vuzix Corporation 0.8703 +1.32% Mkt Cap 57.41M Industry Consumer Electronics 1810.HK Xiaomi Corporation 17.320 +0.58% Mkt Cap HKD 431.639B Industry Consumer Electronics 2439.TW Merry Electronics Co., Ltd. 136.50 +4.60% Mkt Cap TWD 32.528B Industry Consumer Electronics Statistics: AAPL View More Valuation Measures Current Quarterly Annual As of 8/16/2024 Market Cap 3.44T Enterprise Value 3.48T Trailing P/E 34.41 Forward P/E 30.12 PEG Ratio (5yr expected) 2.20 Price/Sales (ttm) 9.10 Price/Book (mrq) 51.52 Enterprise Value/Revenue 9.02 Enterprise Value/EBITDA 25.72 Financial Highlights Profitability and Income Statement Profit Margin 26.44% Return on Assets (ttm) 22.61% Return on Equity (ttm) 160.58% Revenue (ttm) 385.6B Net Income Avi to Common (ttm) 101.96B Diluted EPS (ttm) 6.58 Balance Sheet and Cash Flow Total Cash (mrq) 61.8B Total Debt/Equity (mrq) 151.86% Levered Free Cash Flow (ttm) 86.16B View More Research Analysis: AAPL View More View More Company Insights: AAPL Research Reports: AAPL View More View More People Also Watch AMZN Amazon.com, Inc. 177.06 -0.30% TSLA Tesla, Inc. 216.12 +0.92% GOOG Alphabet Inc. 164.74 +0.96% META Meta Platforms, Inc. 527.42 -1.84% MSFT Microsoft Corporation 418.47 -0.61% NFLX Netflix, Inc. 674.07 +1.64% NVDA NVIDIA Corporation 124.58 +1.40% DIS The Walt Disney Company 89.30 +0.57% AMD Advanced Micro Devices, Inc. 148.56 +0.81% INTC Intel Corporation 20.87 +0.87% JPM JPMorgan Chase & Co. 213.97 +1.14% BA The Boeing Company 179.99 +2.03% F Ford Motor Company 10.51 +0.48% BABA Alibaba Group Holding Limited 83.18 +4.58% BAC Bank of America Corporation 39.34 +0.79% KO The Coca-Cola Company 69.18 +0.77% Copyright © 2024 Yahoo. All rights reserved. POPULAR QUOTES Dow Jones S&P 500 DAX Index Nvidia Tesla DJT EXPLORE MORE Mortgages Credit Cards Sectors Crypto Heatmap Biden Economy Financial News ABOUT Data Disclaimer Help Feedback Sitemap What's New Premium Plans Terms and Privacy Policy Your Privacy Choices CA Privacy Notice About Our Ads U.S. markets closed Customize Your Dock Markets US Europe Asia Rates Commodities Currencies Cryptocurrencies S&P 500 5,554.25 +11.03 (+0.20%) Dow 30 40,659.76 +96.70 (+0.24%) Nasdaq 17,631.72 +37.22 (+0.21%) Russell 2000 2,141.92 +6.45 (+0.30%) Crude Oil 76.60 -1.56 (-2.00%) Gold 2,508.00 +54.90 (+2.24%) My Portfolios My Portfolios Sign in to access your portfolio Sign in Top Gainers ASPN Aspen Aerogels, Inc. 29.92 +5.51 (+22.57%) MRVI Maravai LifeSciences Holdings, Inc. 9.68 +1.71 (+21.46%) RKLB Rocket Lab USA, Inc. 6.56 +0.73 (+12.52%) LOT Lotus Technology Inc. 6.06 +0.67 (+12.43%) HRB H&R Block, Inc. 64.45 +6.96 (+12.11%) Top Losers RGEN Repligen Corporation 147.55 -15.06 (-9.26%) HCM HUTCHMED (China) Limited 18.47 -1.18 (-6.01%) RNW ReNew Energy Global Plc 5.57 -0.35 (-5.91%) ALAB Astera Labs, Inc. 40.91 -2.39 (-5.52%) MHVIY Mitsubishi Heavy Industries Ltd 25.85 -1.17 (-4.33%) Most Active NVDA NVIDIA Corporation 124.58 +1.72 (+1.40%) TSLA Tesla, Inc. 216.12 +1.98 (+0.92%) RKLB Rocket Lab USA, Inc. 6.56 +0.73 (+12.52%) ASTS AST SpaceMobile, Inc. 31.03 -0.33 (-1.05%) PLTR Palantir Technologies Inc. 32.08 +0.86 (+2.75%) Trending Tickers BTC-USD Bitcoin USD 59,638.16 +578.97 (+0.98%) UPS United Parcel Service, Inc. 129.65 +1.10 (+0.86%) ULTA Ulta Beauty, Inc. 377.23 +11.43 (+3.12%) ETH-USD Ethereum USD 2,615.54 +19.89 (+0.77%) RDFN Redfin Corporation 7.46 -0.14 (-1.84%) Top Economic Events Terms and Privacy Policy Your Privacy Choices CA Privacy Notice Ad Terms Feedback\n",
      "\u001b[00m\n"
     ]
    },
    {
     "name": "stdout",
     "output_type": "stream",
     "text": [
      "\u001b[32;1m\u001b[1;3mFinal Answer: Apple Inc. (AAPL) designs, manufactures, and markets smartphones, personal computers, tablets, wearables, and accessories worldwide. The company offers iPhone, a line of smartphones; Mac, a line of personal computers; iPad, a line of multi-purpose tablets; and wearables, home, and accessories. Apple Inc. also provides various services such as Apple Arcade, Apple Fitness+, Apple Music, Apple News+, Apple TV+, and Apple Pay. The company serves consumers, small and mid-sized businesses, education, enterprise, and government markets. Apple Inc. was founded in 1976 and is headquartered in Cupertino, California.\u001b[0m\n",
      "\n",
      "\u001b[1m> Finished chain.\u001b[0m\n",
      "\u001b[95m \n",
      "\n",
      "Apple Inc. (AAPL) designs, manufactures, and markets smartphones, personal computers, tablets, wearables, and accessories worldwide. The company offers iPhone, a line of smartphones; Mac, a line of personal computers; iPad, a line of multi-purpose tablets; and wearables, home, and accessories. Apple Inc. also provides various services such as Apple Arcade, Apple Fitness+, Apple Music, Apple News+, Apple TV+, and Apple Pay. The company serves consumers, small and mid-sized businesses, education, enterprise, and government markets. Apple Inc. was founded in 1976 and is headquartered in Cupertino, California.\n",
      "\u001b[00m\n",
      "\u001b[32;1m\u001b[1;3m\n",
      "Thought: I need to gather insights and alerts about significant market opportunities or threats for AAPL.\n",
      "\n",
      "Action: Ask question to co-worker\n",
      "Action Input: {\"coworker\": \"Trading Strategy Developer\", \"question\": \"What are the current trends and predictions for AAPL based on statistical modeling and machine learning?\", \"context\": \"AAPL stock, statistical modeling, machine learning\"}\u001b[0m\n",
      "\n",
      "\u001b[1m> Entering new CrewAgentExecutor chain...\u001b[0m\n",
      "\u001b[32;1m\u001b[1;3mI need to gather information on current trends and predictions for AAPL using statistical modeling and machine learning techniques.\n",
      "\n",
      "Action: Search the internet\n",
      "Action Input: {\"search_query\": \"current trends and predictions for AAPL using statistical modeling and machine learning\"}\u001b[0m\u001b[95m \n",
      "\n",
      "\n",
      "Search results: Title: Exploring Predictive Insights in AAPL Stock Prices Using Machine ...\n",
      "Link: https://medium.com/inst414-data-science-tech/exploring-predictive-insights-in-aapl-stock-prices-using-machine-learning-daacbbec14a7\n",
      "Snippet: This study focuses on creating a dataset for Apple Inc. (AAPL) stock prices in 2023, forecasting closing prices with a Random Forest Regressor, ...\n",
      "---\n",
      "Title: Apple Stock Price Prediction using Machine Learning | iNeuron\n",
      "Link: https://www.youtube.com/watch?v=JS82OdUM2Cc\n",
      "Snippet: Welcome to our machine learning project session! In this session we dive into predicting Apple ...\n",
      "---\n",
      "Title: AI and Deep Learning Shine a Light on Apple's Stock Price - LinkedIn\n",
      "Link: https://www.linkedin.com/pulse/ai-deep-learning-shine-light-apples-stock-price-month-diego-f3ctf\n",
      "Snippet: In a previous post published a MONTH AGO, I explored the potential of AI-driven financial forecasting to predict Apple stock prices, combining ...\n",
      "---\n",
      "Title: AAPL price prediction with the technical analysis approach.\n",
      "Link: https://www.researchgate.net/figure/AAPL-price-prediction-with-the-technical-analysis-approach_fig3_352647761\n",
      "Snippet: The technical assessment technique uses regression algorithms that use machine learning (ML) to forecast the price of a stock trend at the conclusion of a ...\n",
      "---\n",
      "Title: Forecasting Apple Inc.'s Stock Performance - Medium\n",
      "Link: https://medium.com/@redeaddiscolll/forecasting-apple-inc-s-stock-performance-a-comprehensive-analysis-d998a0e39fdb\n",
      "Snippet: This analysis examines Apple Inc.'s stock performance, focusing on historical trends and future price predictions. We assess market factors, ...\n",
      "---\n",
      "Title: Building a Stock Price Prediction Model with LSTM - AI Advances\n",
      "Link: https://ai.gopubby.com/building-a-stock-price-prediction-model-with-lstm-a-deep-dive-into-apple-stock-da0c768830db\n",
      "Snippet: In today's data-driven world, predicting stock prices has become an increasingly popular application of machine learning.\n",
      "---\n",
      "Title: (PDF) The prediction of Apple stock price based on linear regression ...\n",
      "Link: https://www.researchgate.net/publication/377646812_The_prediction_of_Apple_stock_price_based_on_linear_regression_model_and_random_forest_model\n",
      "Snippet: True and Predict Price of AAPL (Linear Regression Model) As the results in Figure 2, Linear Regression Model has a good predictive performance on this dataset, ...\n",
      "---\n",
      "Title: A Data-Driven Analysis of Apple Inc.'s Financial Performance using ...\n",
      "Link: https://medium.datadriveninvestor.com/a-data-driven-analysis-of-apple-inc-s-financial-performance-using-yfinance-and-machine-learning-e6462fc099a4\n",
      "Snippet: Trend analysis and forecasting using machine learning. As we delve deeper ... Using machine learning to predict stock prices. As we delve into the world ...\n",
      "---\n",
      "Title: [PDF] EFFECTIVENESS OF CNN-LSTM MODELS USED FOR APPLE ...\n",
      "Link: https://scholarworks.lib.csusb.edu/cgi/viewcontent.cgi?article=3143&context=etd\n",
      "Snippet: Eapen et al. (2019) conducted further research that introduces a new deep learning model combining CNN with bi-directional LSTM units. This model aims to ...\n",
      "---\n",
      "Title: Machine Learning for Stock Price Prediction - neptune.ai\n",
      "Link: https://neptune.ai/blog/predicting-stock-prices-using-machine-learning\n",
      "Snippet: Explore stock price prediction using ML, covering time-series analysis, using LSTM, and Moving Average (MA) techniques.\n",
      "---\n",
      "\n",
      "\u001b[00m\n",
      "\u001b[32;1m\u001b[1;3mFinal Answer: \n",
      "To gain insights into the current trends and predictions for AAPL based on statistical modeling and machine learning, you can explore various resources such as:\n",
      "\n",
      "1. Article on Medium: \"Exploring Predictive Insights in AAPL Stock Prices Using Machine Learning\" - This study focuses on creating a dataset for Apple Inc. (AAPL) stock prices in 2023 and forecasting closing prices with a Random Forest Regressor.\n",
      "Link: [Exploring Predictive Insights in AAPL Stock Prices Using Machine Learning](https://medium.com/inst414-data-science-tech/exploring-predictive-insights-in-aapl-stock-prices-using-machine-learning-daacbbec14a7)\n",
      "\n",
      "2. YouTube Video: \"Apple Stock Price Prediction using Machine Learning\" - A machine learning project session that dives into predicting Apple stock prices.\n",
      "Link: [Apple Stock Price Prediction using Machine Learning | iNeuron](https://www.youtube.com/watch?v=JS82OdUM2Cc)\n",
      "\n",
      "3. LinkedIn Article: \"AI and Deep Learning Shine a Light on Apple's Stock Price\" - Explores the potential of AI-driven financial forecasting to predict Apple stock prices.\n",
      "Link: [AI and Deep Learning Shine a Light on Apple's Stock Price - LinkedIn](https://www.linkedin.com/pulse/ai-deep-learning-shine-light-apples-stock-price-month-diego-f3ctf)\n",
      "\n",
      "4. Research Paper: \"AAPL price prediction with the technical analysis approach\" - Utilizes regression algorithms and machine learning to forecast the price trend of AAPL stock.\n",
      "Link: [AAPL price prediction with the technical analysis approach](https://www.researchgate.net/figure/AAPL-price-prediction-with-the-technical-analysis-approach_fig3_352647761)\n",
      "\n",
      "5. Article on Medium: \"Forecasting Apple Inc.'s Stock Performance\" - Analyzes Apple Inc.'s stock performance, historical trends, and future price predictions.\n",
      "Link: [Forecasting Apple Inc.'s Stock Performance - Medium](https://medium.com/@redeaddiscolll/forecasting-apple-inc-s-stock-performance-a-comprehensive-analysis-d998a0e39fdb)\n",
      "\n",
      "6. AI Advances Article: \"Building a Stock Price Prediction Model with LSTM\" - Dives into predicting stock prices using LSTM models.\n",
      "Link: [Building a Stock Price Prediction Model with LSTM - AI Advances](https://ai.gopubby.com/building-a-stock-price-prediction-model-with-lstm-a-deep-dive-into-apple-stock-da0c768830db)\n",
      "\n",
      "7. Research Paper: \"The prediction of Apple stock price based on linear regression model and random forest model\" - Discusses the predictive performance of linear regression and random forest models on AAPL stock.\n",
      "Link: [The prediction of Apple stock price based on linear regression model and random forest model](https://www.researchgate.net/publication/377646812_The_prediction_of_Apple_stock_price_based_on_linear_regression_model_and_random_forest_model)\n",
      "\n",
      "8. Article on Medium: \"A Data-Driven Analysis of Apple Inc.'s Financial Performance using YFinance and Machine Learning\" - Utilizes trend analysis and forecasting techniques using machine learning to predict stock prices.\n",
      "Link: [A Data-Driven Analysis of Apple Inc.'s Financial Performance using YFinance and Machine Learning](https://medium.datadriveninvestor.com/a-data-driven-analysis-of-apple-inc-s-financial-performance-using-yfinance-and-machine-learning-e6462fc099a4)\n",
      "\n",
      "9. Research Paper: \"EFFECTIVENESS OF CNN-LSTM MODELS USED FOR APPLE\" - Introduces a deep learning model combining CNN with bi-directional LSTM units for stock price prediction.\n",
      "Link: [EFFECTIVENESS OF CNN-LSTM MODELS USED FOR APPLE](https://scholarworks.lib.csusb.edu/cgi/viewcontent.cgi?article=3143&context=etd)\n",
      "\n",
      "10. Article on neptune.ai: \"Machine Learning for Stock Price Prediction\" - Explores stock price prediction using machine learning techniques such as time-series analysis, LSTM, and Moving Average.\n",
      "Link: [Machine Learning for Stock Price Prediction - neptune.ai](https://neptune.ai/blog/predicting-stock-prices-using-machine-learning)\u001b[0m\n",
      "\n",
      "\u001b[1m> Finished chain.\u001b[0m\n",
      "\u001b[95m \n",
      "\n",
      "To gain insights into the current trends and predictions for AAPL based on statistical modeling and machine learning, you can explore various resources such as:\n",
      "\n",
      "1. Article on Medium: \"Exploring Predictive Insights in AAPL Stock Prices Using Machine Learning\" - This study focuses on creating a dataset for Apple Inc. (AAPL) stock prices in 2023 and forecasting closing prices with a Random Forest Regressor.\n",
      "Link: [Exploring Predictive Insights in AAPL Stock Prices Using Machine Learning](https://medium.com/inst414-data-science-tech/exploring-predictive-insights-in-aapl-stock-prices-using-machine-learning-daacbbec14a7)\n",
      "\n",
      "2. YouTube Video: \"Apple Stock Price Prediction using Machine Learning\" - A machine learning project session that dives into predicting Apple stock prices.\n",
      "Link: [Apple Stock Price Prediction using Machine Learning | iNeuron](https://www.youtube.com/watch?v=JS82OdUM2Cc)\n",
      "\n",
      "3. LinkedIn Article: \"AI and Deep Learning Shine a Light on Apple's Stock Price\" - Explores the potential of AI-driven financial forecasting to predict Apple stock prices.\n",
      "Link: [AI and Deep Learning Shine a Light on Apple's Stock Price - LinkedIn](https://www.linkedin.com/pulse/ai-deep-learning-shine-light-apples-stock-price-month-diego-f3ctf)\n",
      "\n",
      "4. Research Paper: \"AAPL price prediction with the technical analysis approach\" - Utilizes regression algorithms and machine learning to forecast the price trend of AAPL stock.\n",
      "Link: [AAPL price prediction with the technical analysis approach](https://www.researchgate.net/figure/AAPL-price-prediction-with-the-technical-analysis-approach_fig3_352647761)\n",
      "\n",
      "5. Article on Medium: \"Forecasting Apple Inc.'s Stock Performance\" - Analyzes Apple Inc.'s stock performance, historical trends, and future price predictions.\n",
      "Link: [Forecasting Apple Inc.'s Stock Performance - Medium](https://medium.com/@redeaddiscolll/forecasting-apple-inc-s-stock-performance-a-comprehensive-analysis-d998a0e39fdb)\n",
      "\n",
      "6. AI Advances Article: \"Building a Stock Price Prediction Model with LSTM\" - Dives into predicting stock prices using LSTM models.\n",
      "Link: [Building a Stock Price Prediction Model with LSTM - AI Advances](https://ai.gopubby.com/building-a-stock-price-prediction-model-with-lstm-a-deep-dive-into-apple-stock-da0c768830db)\n",
      "\n",
      "7. Research Paper: \"The prediction of Apple stock price based on linear regression model and random forest model\" - Discusses the predictive performance of linear regression and random forest models on AAPL stock.\n",
      "Link: [The prediction of Apple stock price based on linear regression model and random forest model](https://www.researchgate.net/publication/377646812_The_prediction_of_Apple_stock_price_based_on_linear_regression_model_and_random_forest_model)\n",
      "\n",
      "8. Article on Medium: \"A Data-Driven Analysis of Apple Inc.'s Financial Performance using YFinance and Machine Learning\" - Utilizes trend analysis and forecasting techniques using machine learning to predict stock prices.\n",
      "Link: [A Data-Driven Analysis of Apple Inc.'s Financial Performance using YFinance and Machine Learning](https://medium.datadriveninvestor.com/a-data-driven-analysis-of-apple-inc-s-financial-performance-using-yfinance-and-machine-learning-e6462fc099a4)\n",
      "\n",
      "9. Research Paper: \"EFFECTIVENESS OF CNN-LSTM MODELS USED FOR APPLE\" - Introduces a deep learning model combining CNN with bi-directional LSTM units for stock price prediction.\n",
      "Link: [EFFECTIVENESS OF CNN-LSTM MODELS USED FOR APPLE](https://scholarworks.lib.csusb.edu/cgi/viewcontent.cgi?article=3143&context=etd)\n",
      "\n",
      "10. Article on neptune.ai: \"Machine Learning for Stock Price Prediction\" - Explores stock price prediction using machine learning techniques such as time-series analysis, LSTM, and Moving Average.\n",
      "Link: [Machine Learning for Stock Price Prediction - neptune.ai](https://neptune.ai/blog/predicting-stock-prices-using-machine-learning)\n",
      "\u001b[00m\n"
     ]
    },
    {
     "name": "stdout",
     "output_type": "stream",
     "text": [
      "\u001b[32;1m\u001b[1;3mFinal Answer: \n",
      "Insights and alerts about significant market opportunities or threats for AAPL can be gained by exploring various resources such as articles, research papers, YouTube videos, and LinkedIn posts that focus on using statistical modeling and machine learning to predict Apple Inc.'s stock trends. These resources delve into creating datasets, forecasting closing prices, utilizing regression algorithms, LSTM models, and AI-driven financial forecasting to provide valuable insights into AAPL's current trends and predictions. By analyzing these resources, you can stay informed about potential market opportunities or threats related to AAPL.\u001b[0m\n",
      "\n",
      "\u001b[1m> Finished chain.\u001b[0m\n",
      "\u001b[1m\u001b[92m [DEBUG]: [Crew Manager] Task output: Insights and alerts about significant market opportunities or threats for AAPL can be gained by exploring various resources such as articles, research papers, YouTube videos, and LinkedIn posts that focus on using statistical modeling and machine learning to predict Apple Inc.'s stock trends. These resources delve into creating datasets, forecasting closing prices, utilizing regression algorithms, LSTM models, and AI-driven financial forecasting to provide valuable insights into AAPL's current trends and predictions. By analyzing these resources, you can stay informed about potential market opportunities or threats related to AAPL.\u001b[00m\n",
      "\u001b[1m\u001b[92m [DEBUG]: Working Agent: Crew Manager\u001b[00m\n",
      "\u001b[1m\u001b[92m [INFO]: Starting Task: Develop and refine trading strategies based on the insights from the Data Analyst and user-defined risk tolerance (Medium). Consider trading preferences (Day Trading).\u001b[00m\n",
      "\n",
      "\n",
      "\u001b[1m> Entering new CrewAgentExecutor chain...\u001b[0m\n",
      "\u001b[32;1m\u001b[1;3mI need to gather insights from the Data Analyst and consider the user-defined risk tolerance to develop and refine trading strategies for AAPL. I should also take into account the trading preferences for Day Trading.\n",
      "\n",
      "Action: Ask question to co-worker\n",
      "Action Input: {\"coworker\": \"Data Analyst\", \"question\": \"What are the key insights and trends you have identified for AAPL?\", \"context\": \"I need to develop trading strategies based on your insights.\"}\u001b[0m\n",
      "\n",
      "\u001b[1m> Entering new CrewAgentExecutor chain...\u001b[0m\n",
      "\u001b[32;1m\u001b[1;3mI should start by reading the latest news and analysis on AAPL to identify key insights and trends.\n",
      "\n",
      "Action: Read website content\n",
      "Action Input: {\"website_url\": \"https://www.marketwatch.com/investing/stock/aapl\"}\u001b[0m\u001b[95m \n",
      "\n",
      "marketwatch.comPlease enable JS and disable any ad blocker\n",
      "\u001b[00m\n",
      "\u001b[32;1m\u001b[1;3mAction: Read website content\n",
      "Action Input: {\"website_url\": \"https://www.marketwatch.com/investing/stock/aapl\"}\u001b[0m\u001b[95m \n",
      "\n",
      "I tried reusing the same input, I must stop using this action input. I'll try something else instead.\n",
      "\n",
      "\n",
      "\u001b[00m\n",
      "\u001b[32;1m\u001b[1;3mAction: Read website content\n",
      "Action Input: {\"website_url\": \"https://www.marketwatch.com/investing/stock/aapl\"}\u001b[0m\u001b[95m \n",
      "\n",
      "I tried reusing the same input, I must stop using this action input. I'll try something else instead.\n",
      "\n",
      "\n",
      "\u001b[00m\n",
      "\u001b[32;1m\u001b[1;3mThought: I should try using the \"Search the internet\" tool to gather insights and trends on AAPL.\n",
      "\n",
      "Action: Search the internet\n",
      "Action Input: {\"search_query\": \"AAPL key insights and trends\"}\u001b[0m\u001b[95m \n",
      "\n",
      "\n",
      "Search results: Title: Apple Inc. (AAPL) Valuation Measures & Financial Statistics\n",
      "Link: https://finance.yahoo.com/quote/AAPL/key-statistics/\n",
      "Snippet: Find out all the key statistics for Apple Inc. (AAPL), including valuation measures, fiscal year financial statistics, trading record, share statistics and ...\n",
      "---\n",
      "Title: Apple Stock (AAPL) News: Key Insights for Investors - TipRanks.com\n",
      "Link: https://www.tipranks.com/news/apple-stock-aapl-news-key-insights-for-investors\n",
      "Snippet: Apple (NASDAQ:AAPL) stock is in the spotlight. According to a Bloomberg report, Apple will get an observer role on OpenAI's board.\n",
      "---\n",
      "Title: Apple (AAPL) - Technical Analysis - US Stocks - Investtech\n",
      "Link: https://www.investtech.com/main/market.php?CompanyID=10503307\n",
      "Snippet: Get Daily Technical Analysis of stock Apple with charts and key technical data RSI, MACD, Pivot points, Moving Averages, Buy/Sell signals.\n",
      "---\n",
      "Title: apple - Reports, Statistics & Marketing Trends | EMARKETER\n",
      "Link: https://www.emarketer.com/topics/category/apple\n",
      "Snippet: Apple Trends & Statistics. EMARKETER offers market research, trends and statistics for a variety of topics and industries. Here you will find a collection of ...\n",
      "---\n",
      "Title: Apple Inc. (AAPL) Latest Stock News & Headlines - Yahoo Finance\n",
      "Link: https://finance.yahoo.com/quote/AAPL/news/\n",
      "Snippet: Get the latest Apple Inc. (AAPL) stock news and headlines to help you in your trading and investing decisions.\n",
      "---\n",
      "Title: Apple Inc NASDAQ:AAPL - Alpha Spread\n",
      "Link: https://www.alphaspread.com/security/nasdaq/aapl/summary\n",
      "Snippet: of Apple Inc and its key competitors using the latest financial data. Compare historical revenue growth rates of Apple Inc against its competitors.\n",
      "---\n",
      "Title: [PDF] Apple, Inc. (NASDAQ: AAPL) - Current Students\n",
      "Link: https://students.tippie.uiowa.edu/sites/students.tippie.uiowa.edu/files/2023-04/s23_AAPL.pdf\n",
      "Snippet: Growth of Services & Wearables: The current industry trends allow Apple to capitalize on current and future services, as well.\n",
      "---\n",
      "Title: Apple Stock (AAPL) News: Key Insights for Investors | Nasdaq\n",
      "Link: https://www.nasdaq.com/articles/apple-stock-aapl-news-key-insights-investors\n",
      "Snippet: Apple stock has a Moderate Buy consensus rating based on 24 Buys, 10 Holds, and one Sell recommendation. The analysts' average AAPL stock price ...\n",
      "---\n",
      "Title: AAPL Stock Quote Price and Forecast - CNN\n",
      "Link: https://www.cnn.com/markets/stocks/AAPL\n",
      "Snippet: View Apple Inc. AAPL stock quote prices, financial information, real-time forecasts, and company news from CNN.\n",
      "---\n",
      "Title: NASDAQ:AAPL Stock Price — TradingView - Apple Inc\n",
      "Link: https://www.tradingview.com/symbols/NASDAQ-AAPL/\n",
      "Snippet: View live Apple Inc chart to track its stock's price action. Find market predictions, AAPL financials and market news.\n",
      "---\n",
      "\n",
      "\u001b[00m\n",
      "\u001b[32;1m\u001b[1;3mFinal Answer: \n",
      "I found a variety of sources that provide key insights and trends for AAPL:\n",
      "\n",
      "1. Title: Apple Inc. (AAPL) Valuation Measures & Financial Statistics\n",
      "   Link: [Yahoo Finance AAPL Statistics](https://finance.yahoo.com/quote/AAPL/key-statistics/)\n",
      "   Snippet: Find out all the key statistics for Apple Inc. (AAPL), including valuation measures, fiscal year financial statistics, trading record, share statistics, and more.\n",
      "\n",
      "2. Title: Apple Stock (AAPL) News: Key Insights for Investors - TipRanks.com\n",
      "   Link: [TipRanks Apple Stock News](https://www.tipranks.com/news/apple-stock-aapl-news-key-insights-for-investors)\n",
      "   Snippet: Apple (NASDAQ:AAPL) stock is in the spotlight. According to a Bloomberg report, Apple will get an observer role on OpenAI's board.\n",
      "\n",
      "3. Title: Apple (AAPL) - Technical Analysis - US Stocks - Investtech\n",
      "   Link: [Investtech Apple Technical Analysis](https://www.investtech.com/main/market.php?CompanyID=10503307)\n",
      "   Snippet: Get Daily Technical Analysis of stock Apple with charts and key technical data RSI, MACD, Pivot points, Moving Averages, Buy/Sell signals.\n",
      "\n",
      "4. Title: Apple Inc. (AAPL) Latest Stock News & Headlines - Yahoo Finance\n",
      "   Link: [Yahoo Finance AAPL News](https://finance.yahoo.com/quote/AAPL/news/)\n",
      "   Snippet: Get the latest Apple Inc. (AAPL) stock news and headlines to help you in your trading and investing decisions.\n",
      "\n",
      "5. Title: Apple Stock (AAPL) News: Key Insights for Investors | Nasdaq\n",
      "   Link: [Nasdaq Apple Stock News](https://www.nasdaq.com/articles/apple-stock-aapl-news-key-insights-investors)\n",
      "   Snippet: Apple stock has a Moderate Buy consensus rating based on 24 Buys, 10 Holds, and one Sell recommendation. The analysts' average AAPL stock price.\n",
      "\n",
      "These sources provide a comprehensive view of AAPL's valuation, news, technical analysis, and stock trends, offering valuable insights for developing trading strategies.\u001b[0m\n",
      "\n",
      "\u001b[1m> Finished chain.\u001b[0m\n",
      "\u001b[95m \n",
      "\n",
      "I found a variety of sources that provide key insights and trends for AAPL:\n",
      "\n",
      "1. Title: Apple Inc. (AAPL) Valuation Measures & Financial Statistics\n",
      "   Link: [Yahoo Finance AAPL Statistics](https://finance.yahoo.com/quote/AAPL/key-statistics/)\n",
      "   Snippet: Find out all the key statistics for Apple Inc. (AAPL), including valuation measures, fiscal year financial statistics, trading record, share statistics, and more.\n",
      "\n",
      "2. Title: Apple Stock (AAPL) News: Key Insights for Investors - TipRanks.com\n",
      "   Link: [TipRanks Apple Stock News](https://www.tipranks.com/news/apple-stock-aapl-news-key-insights-for-investors)\n",
      "   Snippet: Apple (NASDAQ:AAPL) stock is in the spotlight. According to a Bloomberg report, Apple will get an observer role on OpenAI's board.\n",
      "\n",
      "3. Title: Apple (AAPL) - Technical Analysis - US Stocks - Investtech\n",
      "   Link: [Investtech Apple Technical Analysis](https://www.investtech.com/main/market.php?CompanyID=10503307)\n",
      "   Snippet: Get Daily Technical Analysis of stock Apple with charts and key technical data RSI, MACD, Pivot points, Moving Averages, Buy/Sell signals.\n",
      "\n",
      "4. Title: Apple Inc. (AAPL) Latest Stock News & Headlines - Yahoo Finance\n",
      "   Link: [Yahoo Finance AAPL News](https://finance.yahoo.com/quote/AAPL/news/)\n",
      "   Snippet: Get the latest Apple Inc. (AAPL) stock news and headlines to help you in your trading and investing decisions.\n",
      "\n",
      "5. Title: Apple Stock (AAPL) News: Key Insights for Investors | Nasdaq\n",
      "   Link: [Nasdaq Apple Stock News](https://www.nasdaq.com/articles/apple-stock-aapl-news-key-insights-investors)\n",
      "   Snippet: Apple stock has a Moderate Buy consensus rating based on 24 Buys, 10 Holds, and one Sell recommendation. The analysts' average AAPL stock price.\n",
      "\n",
      "These sources provide a comprehensive view of AAPL's valuation, news, technical analysis, and stock trends, offering valuable insights for developing trading strategies.\n",
      "\u001b[00m\n"
     ]
    }
   ],
   "source": [
    "### this execution will take some time to run\n",
    "result = financial_trading_crew.kickoff(inputs=financial_trading_inputs)"
   ]
  },
  {
   "cell_type": "markdown",
   "metadata": {},
   "source": [
    "- Display the final result as Markdown."
   ]
  },
  {
   "cell_type": "code",
   "execution_count": null,
   "metadata": {
    "height": 47
   },
   "outputs": [],
   "source": [
    "from IPython.display import Markdown\n",
    "Markdown(result)"
   ]
  },
  {
   "cell_type": "code",
   "execution_count": null,
   "metadata": {
    "height": 30
   },
   "outputs": [],
   "source": []
  },
  {
   "cell_type": "code",
   "execution_count": null,
   "metadata": {
    "height": 30
   },
   "outputs": [],
   "source": []
  }
 ],
 "metadata": {
  "kernelspec": {
   "display_name": "Python 3 (ipykernel)",
   "language": "python",
   "name": "python3"
  },
  "language_info": {
   "codemirror_mode": {
    "name": "ipython",
    "version": 3
   },
   "file_extension": ".py",
   "mimetype": "text/x-python",
   "name": "python",
   "nbconvert_exporter": "python",
   "pygments_lexer": "ipython3",
   "version": "3.11.9"
  }
 },
 "nbformat": 4,
 "nbformat_minor": 4
}
